{
  "nbformat": 4,
  "nbformat_minor": 0,
  "metadata": {
    "colab": {
      "name": "EletronicosModelagemRe'.ipynb",
      "provenance": [],
      "include_colab_link": true
    },
    "kernelspec": {
      "name": "python3",
      "display_name": "Python 3"
    },
    "language_info": {
      "name": "python"
    }
  },
  "cells": [
    {
      "cell_type": "markdown",
      "metadata": {
        "id": "view-in-github",
        "colab_type": "text"
      },
      "source": [
        "<a href=\"https://colab.research.google.com/github/TarcizoC/Faculdade/blob/main/EletronicosModelagemRe'.ipynb\" target=\"_parent\"><img src=\"https://colab.research.google.com/assets/colab-badge.svg\" alt=\"Open In Colab\"/></a>"
      ]
    },
    {
      "cell_type": "markdown",
      "source": [
        "# Questão 1"
      ],
      "metadata": {
        "id": "mBTv178IvGpr"
      }
    },
    {
      "cell_type": "code",
      "execution_count": 1,
      "metadata": {
        "id": "Cw4SFm3Dm4hu"
      },
      "outputs": [],
      "source": [
        "# Meu\n",
        "\n",
        "Vdc = 12\n",
        "R1 = 107e3\n",
        "R2 = 13.7e3\n",
        "Rc = 5.6e3\n",
        "Re = 680\n",
        "Rl = 100e3\n",
        "\n",
        "Vbe = 0.65\n",
        "beta = 210\n",
        "\n",
        "Rs = 4e3"
      ]
    },
    {
      "cell_type": "code",
      "source": [
        "Vb = R2/(R1+R2) * Vdc\n",
        "Ve = Vb - Vbe\n",
        "Ie = Ve/Re\n",
        "Ic = beta/(beta+1) * Ie\n",
        "\n",
        "print(\"Vb: \", Vb)\n",
        "print(\"Ve: \", Ve)\n",
        "print(\"Ie: \", Ie)\n",
        "print(\"Ic: \", Ic)"
      ],
      "metadata": {
        "colab": {
          "base_uri": "https://localhost:8080/"
        },
        "id": "C_CVT_52nnlD",
        "outputId": "ab728ee6-bca3-4b85-aa9b-beb6706be6fe"
      },
      "execution_count": null,
      "outputs": [
        {
          "output_type": "stream",
          "name": "stdout",
          "text": [
            "Vb:  1.3620546810273404\n",
            "Ve:  0.7120546810273404\n",
            "Ie:  0.0010471392368049124\n",
            "Ic:  0.0010421764916067847\n"
          ]
        }
      ]
    },
    {
      "cell_type": "code",
      "source": [
        "re_linha = 26/(Ic*1e3)\n",
        "Zi_linha = beta*(Re + re_linha)\n",
        "\n",
        "Zin = 1 / ( 1/R1 + 1/R2 +  1/Zi_linha)\n",
        "print(\"Impedância de entrada: \", Zin)"
      ],
      "metadata": {
        "colab": {
          "base_uri": "https://localhost:8080/"
        },
        "id": "9lYJyk27o4BK",
        "outputId": "e68abea2-ffb0-4579-e56f-a2f035a0afe3"
      },
      "execution_count": null,
      "outputs": [
        {
          "output_type": "stream",
          "name": "stdout",
          "text": [
            "Impedância de entrada:  11224.167131191962\n"
          ]
        }
      ]
    },
    {
      "cell_type": "code",
      "source": [
        "Zout = Rc\n",
        "print(\"Impedancia de saída: \", Zout)"
      ],
      "metadata": {
        "colab": {
          "base_uri": "https://localhost:8080/"
        },
        "id": "4VnOnJB5q3IS",
        "outputId": "8e9351f3-df23-4590-9f7e-9ba18bb05e50"
      },
      "execution_count": null,
      "outputs": [
        {
          "output_type": "stream",
          "name": "stdout",
          "text": [
            "Impedancia de saída:  5600.0\n"
          ]
        }
      ]
    },
    {
      "cell_type": "code",
      "source": [
        "Av_cima = 1/(1/Rc + 1/Rl)\n",
        "Av_baixo = re_linha + Re\n",
        "\n",
        "Av = - Av_cima/Av_baixo\n",
        "print(\"Ganho de tensão: \", Av)"
      ],
      "metadata": {
        "colab": {
          "base_uri": "https://localhost:8080/"
        },
        "id": "WbhM9BJ2rOCz",
        "outputId": "940244e3-1231-472c-e2b3-c87894f2f0aa"
      },
      "execution_count": null,
      "outputs": [
        {
          "output_type": "stream",
          "name": "stdout",
          "text": [
            "Ganho de tensão:  -7.522585899410862\n"
          ]
        }
      ]
    },
    {
      "cell_type": "code",
      "source": [
        "print(\"Impedancia de entrada: \", Zin)\n",
        "print(\"Impedancia de saida: \", Zout)\n",
        "print(\"Ganho de Tensão: \", Av)"
      ],
      "metadata": {
        "colab": {
          "base_uri": "https://localhost:8080/"
        },
        "id": "u_G-6AFSrsML",
        "outputId": "7c2d34dd-8dd5-48a6-badb-d4b71a42a2be"
      },
      "execution_count": null,
      "outputs": [
        {
          "output_type": "stream",
          "name": "stdout",
          "text": [
            "Impedancia de entrada:  11224.167131191962\n",
            "Impedancia de saida:  5600.0\n",
            "Ganho de Tensão:  -7.522585899410862\n"
          ]
        }
      ]
    },
    {
      "cell_type": "code",
      "source": [
        "Av = Zin/(Zin+Rs) * Av\n",
        "print(\"Novo ganho de tensão: \", Av)"
      ],
      "metadata": {
        "colab": {
          "base_uri": "https://localhost:8080/"
        },
        "id": "h4FL6QdluPkP",
        "outputId": "cb089181-525f-4507-f835-368cddf46066"
      },
      "execution_count": null,
      "outputs": [
        {
          "output_type": "stream",
          "name": "stdout",
          "text": [
            "Novo ganho de tensão:  -5.546100529909564\n"
          ]
        }
      ]
    },
    {
      "cell_type": "markdown",
      "source": [
        "# Questão 2"
      ],
      "metadata": {
        "id": "Uvx3HElSvKm6"
      }
    },
    {
      "cell_type": "code",
      "source": [
        "Vdc = 5\n",
        "R1 = 1e3\n",
        "R2 = 1e3\n",
        "Re = 249\n",
        "\n",
        "Vbe = 0.59\n",
        "beta = 447\n",
        "Vd = 0.61\n",
        "\n",
        "Rs = 100"
      ],
      "metadata": {
        "id": "7kTaso1vvMdD"
      },
      "execution_count": null,
      "outputs": []
    },
    {
      "cell_type": "code",
      "source": [
        "Vb = R2 / (R1+R2) * (Vdc - 2*Vd)\n",
        "Ve = Vb - Vbe + 2*Vd\n",
        "Ie = Ve/Re\n",
        "Ic = beta/(beta+1)*Ie\n",
        "\n",
        "print(\"Vb: \", Vb)\n",
        "print(\"Ve: \", Ve)\n",
        "print(\"Ie: \", Ie)\n",
        "print(\"Ic: \", Ic)"
      ],
      "metadata": {
        "colab": {
          "base_uri": "https://localhost:8080/"
        },
        "id": "qWPl6vkGxwMG",
        "outputId": "010c0a00-2fb3-4ae6-be06-0571071309a1"
      },
      "execution_count": null,
      "outputs": [
        {
          "output_type": "stream",
          "name": "stdout",
          "text": [
            "Vb:  1.8900000000000001\n",
            "Ve:  2.5200000000000005\n",
            "Ie:  0.010120481927710845\n",
            "Ic:  0.01009789156626506\n"
          ]
        }
      ]
    },
    {
      "cell_type": "code",
      "source": [
        "re_linha = 26/(Ic*1e3)\n",
        "Zi_linha = beta*(Re + re_linha)\n",
        "\n",
        "Zin = 1 / ( 1/R1 + 1/R2 +  1/Zi_linha)\n",
        "print(\"Impedância de entrada: \", Zin)"
      ],
      "metadata": {
        "colab": {
          "base_uri": "https://localhost:8080/"
        },
        "id": "VS0lxz11y6l1",
        "outputId": "36de85b0-3bab-49c5-93be-4ea2b3c57489"
      },
      "execution_count": null,
      "outputs": [
        {
          "output_type": "stream",
          "name": "stdout",
          "text": [
            "Impedância de entrada:  497.7867083277017\n"
          ]
        }
      ]
    },
    {
      "cell_type": "code",
      "source": [
        "Zout = 1/(1/re_linha + 1/Re)\n",
        "print(\"Impedância de saida: \", Zout)"
      ],
      "metadata": {
        "colab": {
          "base_uri": "https://localhost:8080/"
        },
        "id": "NfZNBe5DzI63",
        "outputId": "1c791f04-9b11-468e-f892-9d98ae0dd9e3"
      },
      "execution_count": null,
      "outputs": [
        {
          "output_type": "stream",
          "name": "stdout",
          "text": [
            "Impedância de saida:  2.548442651183388\n"
          ]
        }
      ]
    },
    {
      "cell_type": "code",
      "source": [
        "Av = Re / (Re + re_linha)\n",
        "print(\"Ganho de Tensão: \", Av)"
      ],
      "metadata": {
        "colab": {
          "base_uri": "https://localhost:8080/"
        },
        "id": "8j6HycAAzyOp",
        "outputId": "da06b04b-b681-4fab-9ce6-631cf9e33bf3"
      },
      "execution_count": null,
      "outputs": [
        {
          "output_type": "stream",
          "name": "stdout",
          "text": [
            "Ganho de Tensão:  0.9897652905574964\n"
          ]
        }
      ]
    },
    {
      "cell_type": "code",
      "source": [
        "Av = Zin / (Zin + Rs) * Av\n",
        "print(\"Novo Ganho de Tensão: \", Av)"
      ],
      "metadata": {
        "colab": {
          "base_uri": "https://localhost:8080/"
        },
        "id": "TW90H4jk2_UJ",
        "outputId": "446ddb20-d113-4510-bf85-40085018a0ff"
      },
      "execution_count": null,
      "outputs": [
        {
          "output_type": "stream",
          "name": "stdout",
          "text": [
            "Novo Ganho de Tensão:  0.824193644890374\n"
          ]
        }
      ]
    }
  ]
}