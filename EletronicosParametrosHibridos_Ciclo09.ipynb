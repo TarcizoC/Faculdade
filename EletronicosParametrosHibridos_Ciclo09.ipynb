{
  "nbformat": 4,
  "nbformat_minor": 0,
  "metadata": {
    "colab": {
      "name": "EletronicosParametrosHibridos_Ciclo09.ipynb",
      "provenance": [],
      "include_colab_link": true
    },
    "kernelspec": {
      "name": "python3",
      "display_name": "Python 3"
    },
    "language_info": {
      "name": "python"
    }
  },
  "cells": [
    {
      "cell_type": "markdown",
      "metadata": {
        "id": "view-in-github",
        "colab_type": "text"
      },
      "source": [
        "<a href=\"https://colab.research.google.com/github/TarcizoC/Faculdade/blob/main/EletronicosParametrosHibridos_Ciclo09.ipynb\" target=\"_parent\"><img src=\"https://colab.research.google.com/assets/colab-badge.svg\" alt=\"Open In Colab\"/></a>"
      ]
    },
    {
      "cell_type": "code",
      "execution_count": null,
      "metadata": {
        "id": "V157djVTNsNe"
      },
      "outputs": [],
      "source": [
        "def convertParametrosHibridos(configuracao, hfe, hoe, hie, hre):\n",
        "  hf = 0\n",
        "  ho = 0\n",
        "  hi = 0\n",
        "  hr = 0\n",
        "  if configuracao == \"baseComum\":\n",
        "    hi = hie / ( (1+hfe)*(1-hre) + hie*hoe )\n",
        "    hr = ( hie*hoe - hre*(1+hfe) ) / ( (1+hfe)*(1-hre) + hie*hoe )\n",
        "    hf = ( -hfe*(1-hre) - hie*hoe ) / ( (1+hfe)*(1-hre) + hie*hoe )\n",
        "    ho = hoe / ( (1+hfe)*(1-hre) + hie*hoe  )  \n",
        "  elif configuracao == \"coletorComum\":\n",
        "    hi = hie\n",
        "    hr = 1 - hre\n",
        "    hf = -(1+hfe)\n",
        "    ho = hoe\n",
        "  else:\n",
        "    print(\"Configuração Invalida\")\n",
        "\n",
        "  return hf, ho, hi, hr"
      ]
    },
    {
      "cell_type": "code",
      "source": [
        "def paralelo(R1, R2):\n",
        "  return 1/( 1/R1 + 1/R2 )"
      ],
      "metadata": {
        "id": "-70jaUVRSCFi"
      },
      "execution_count": null,
      "outputs": []
    },
    {
      "cell_type": "code",
      "source": [
        "def calcCompleta(hf, ho, hi, hr, Rl, Rs):\n",
        "  Ai = hf / (1+ho*Rl)\n",
        "  Av = - hf*Rl / (hi + (hi*ho - hf*hr)*Rl)\n",
        "  Zi_b = hi - ( hf*hr*Rl ) / (1+ho*Rl)\n",
        "  Zo_c = 1 / (ho - (hf*hr/(hi+Rs)))\n",
        "  return Ai, Av, Zi_b, Zo_c"
      ],
      "metadata": {
        "id": "WmGG8wxoQ2kV"
      },
      "execution_count": null,
      "outputs": []
    },
    {
      "cell_type": "code",
      "source": [
        "def calcSimplificadoEC(hfe, hoe, hie, R1, R2, Rc, Rl):\n",
        "  Av = - hfe * (paralelo(paralelo(Rc, Rl), 1/hoe)) / hie\n",
        "  Ai = hfe*paralelo(R1, R2) / (paralelo(R1, R2) + hie)\n",
        "  Zi_b = paralelo(paralelo(R1, R2), hie)\n",
        "  Zo_c = Rc\n",
        "  return Ai, Av, Zi_b, Zo_c"
      ],
      "metadata": {
        "id": "wDRDKzdMWDkd"
      },
      "execution_count": null,
      "outputs": []
    },
    {
      "cell_type": "code",
      "source": [
        "hfe = 135\n",
        "hoe = 8.7e-6\n",
        "hie = 3.7e3\n",
        "hre = 1.45e-4\n",
        "Rl = paralelo(9.53e3, 100e3)\n",
        "RL = 100e3\n",
        "Rs = 0\n",
        "\n",
        "Ai, Av, Zi_b, Zo_c = calcCompleta(hfe, hoe, hie, hre, Rl, Rs)\n",
        "\n",
        "#Exemplo 1\n",
        "Rb1 = 18.2e3\n",
        "Rb2 = 1.69e3\n",
        "Rc = 9.53e3\n",
        "Zin = paralelo(Zi_b,paralelo(Rb1, Rb2))\n",
        "Zout = paralelo(Rc, Zo_c)\n",
        "\n",
        "print(\"Exemplo 1: ------\")\n",
        "print(\"EQUAÇÕES COMPLETAS\")\n",
        "print(\"Ganho de tensão Av: \", Av)\n",
        "print(\"Ganho de corrente Ai: \", Ai)\n",
        "print(\"Impedância de entrada Zin: \", Zin)\n",
        "print(\"Impedância de saída Zout: \", Zout)\n",
        "\n",
        "Ai, Av, Zin, Zout = calcSimplificadoEC(hfe, hoe, hie, Rb1, Rb2, Rc, RL)\n",
        "\n",
        "print(\"EQUAÇÕES SIMPLIFICADAS\")\n",
        "print(\"Ganho de tensão Av: \", Av)\n",
        "print(\"Ganho de corrente Ai: \", Ai)\n",
        "print(\"Impedância de entrada Zin: \", Zin)\n",
        "print(\"Impedância de saída Zout: \", Zout)\n"
      ],
      "metadata": {
        "colab": {
          "base_uri": "https://localhost:8080/"
        },
        "id": "fMYHC-YtR5jf",
        "outputId": "7cbbfdc0-bd82-488e-bd26-e882b54e2d1d"
      },
      "execution_count": null,
      "outputs": [
        {
          "output_type": "stream",
          "name": "stdout",
          "text": [
            "Exemplo 1: ------\n",
            "EQUAÇÕES COMPLETAS\n",
            "Ganho de tensão Av:  -308.31586887074826\n",
            "Ganho de corrente Ai:  125.500016550516\n",
            "Impedância de entrada Zin:  1076.4101007340264\n",
            "Impedância de saída Zout:  9230.094400691667\n",
            "EQUAÇÕES SIMPLIFICADAS\n",
            "Ganho de tensão Av:  -295.12219476495824\n",
            "Ganho de corrente Ai:  39.791952161455086\n",
            "Impedância de entrada Zin:  1090.5942444250654\n",
            "Impedância de saída Zout:  9530.0\n"
          ]
        }
      ]
    },
    {
      "cell_type": "markdown",
      "source": [
        "# Exercício avaliativo"
      ],
      "metadata": {
        "id": "5H54lwDtrCzC"
      }
    },
    {
      "cell_type": "code",
      "source": [
        "# Tentativa 1\n",
        "# hfe = 220\n",
        "# hoe = 24e-6\n",
        "# hie = 3.5e3\n",
        "# hre = 1.5e-4\n",
        "# Rb1 = 18.2e3\n",
        "# Rb2 = 1.69e3\n",
        "# Rc = 4.7e3\n",
        "# RL = 100e3\n",
        "# Rs = 0\n",
        "\n",
        "# Tentativa 2\n",
        "hfe = 600\n",
        "hoe = 90e-6\n",
        "hie = 11e3\n",
        "hre = 3e-4\n",
        "Rb1 = 18.2e3\n",
        "Rb2 = 1.69e3\n",
        "Rc = 4.7e3\n",
        "RL = 100e3\n",
        "Rs = 0\n",
        "\n",
        "Rl = paralelo(Rc, RL)\n",
        "\n",
        "Ai, Av, Zi_b, Zo_c = calcCompleta(hfe, hoe, hie, hre, Rl, Rs)\n",
        "\n",
        "#Exemplo 1\n",
        "Zin = paralelo(Zi_b,paralelo(Rb1, Rb2))\n",
        "Zout = paralelo(Rc, Zo_c)\n",
        "\n",
        "print(\"Questão 1: ------\")\n",
        "print(\"EQUAÇÕES COMPLETAS\")\n",
        "print(\"Ganho de tensão Av: \", Av)\n",
        "print(\"Ganho de corrente Ai: \", Ai)\n",
        "print(\"Impedância de entrada Zin: \", Zin)\n",
        "print(\"Impedância de saída Zout: \", Zout)"
      ],
      "metadata": {
        "colab": {
          "base_uri": "https://localhost:8080/"
        },
        "id": "elmMbvIbrFv2",
        "outputId": "6a2a922e-4b59-4289-e840-1400c023ea72"
      },
      "execution_count": null,
      "outputs": [
        {
          "output_type": "stream",
          "name": "stdout",
          "text": [
            "Questão 1: ------\n",
            "EQUAÇÕES COMPLETAS\n",
            "Ganho de tensão Av:  -184.02505873140174\n",
            "Ganho de corrente Ai:  427.3469387755102\n",
            "Impedância de entrada Zin:  1346.6399541816997\n",
            "Impedância de saída Zout:  3491.591814682245\n"
          ]
        }
      ]
    },
    {
      "cell_type": "code",
      "source": [
        "# Tentativa 1\n",
        "# hfe = 180\n",
        "# hoe = 70e-6\n",
        "# hie = 0.5e3\n",
        "# hre = 2.85e-4\n",
        "\n",
        "# Rb1 = 1e3\n",
        "# Rb2 = 1e3\n",
        "# RL = 1e3\n",
        "# Rs = 0\n",
        "# Re = 560\n",
        "\n",
        "# Tentativa 2\n",
        "hfe = 120\n",
        "hoe = 6.5e-6\n",
        "hie = 6.8e3\n",
        "hre = 2.05e-4\n",
        "\n",
        "Rb1 = 1e3\n",
        "Rb2 = 1e3\n",
        "RL = 200\n",
        "Rs = 0\n",
        "Re = 11e3\n",
        "\n",
        "hfc, hoc, hic, hrc = convertParametrosHibridos(\"coletorComum\", hfe, hoe, hie, hre)\n",
        "\n",
        "Rl = paralelo(Re, RL)\n",
        "\n",
        "Ai, Av, Zi_b, Zo_c = calcCompleta(hfc, hoc, hic, hrc, Rl, Rs)\n",
        "\n",
        "Zin = paralelo(paralelo(Rb1, Rb2), Zi_b)\n",
        "\n",
        "# Acho que aqui é só o paralelo entre Re e Zo_c...\n",
        "Zout = paralelo(paralelo(Re, RL), Zo_c)\n",
        "\n",
        "print(\"Questão 2: ------\")\n",
        "\n",
        "print(hfc)\n",
        "print(hoc)\n",
        "print(hic)\n",
        "print(hrc)\n",
        "\n",
        "print(\"EQUAÇÕES COMPLETAS\")\n",
        "print(\"Ganho de tensão Av: \", Av)\n",
        "print(\"Ganho de corrente Ai: \", Ai)\n",
        "print(\"Impedância de entrada Zin: \", Zin)\n",
        "print(\"Impedância de saída Zout: \", Zout)"
      ],
      "metadata": {
        "colab": {
          "base_uri": "https://localhost:8080/"
        },
        "id": "L0AnuGC1sjmu",
        "outputId": "c78ce229-e5be-4369-f273-684cd284fd02"
      },
      "execution_count": null,
      "outputs": [
        {
          "output_type": "stream",
          "name": "stdout",
          "text": [
            "Questão 2: ------\n",
            "-121\n",
            "6.5e-06\n",
            "6800.0\n",
            "0.999795\n",
            "EQUAÇÕES COMPLETAS\n",
            "Ganho de tensão Av:  0.7774472108451935\n",
            "Ganho de corrente Ai:  -120.84570592903704\n",
            "Impedância de entrada Zin:  491.94397730484724\n",
            "Impedância de saída Zout:  43.691248212787734\n"
          ]
        }
      ]
    },
    {
      "cell_type": "code",
      "source": [
        "# Tentativa 1\n",
        "# hfe = 500\n",
        "# hoe = 50e-6\n",
        "# hie = 15e3\n",
        "# hre = 2.2e-4\n",
        "\n",
        "# Rb1 = 3.16e3\n",
        "# Rb2 = 20.5e3\n",
        "# RL = 47e3\n",
        "# Rs = 0\n",
        "# Re = 10.7e3\n",
        "# Rc = 2.43e3\n",
        "\n",
        "# Tentativa 2\n",
        "hfe = 300\n",
        "hoe = 25e-6\n",
        "hie = 8e3\n",
        "hre = 1.4e-4\n",
        "\n",
        "Rb1 = 3.16e3\n",
        "Rb2 = 20.5e3\n",
        "RL = 47e3\n",
        "Rs = 0\n",
        "Re = 10.7e3\n",
        "Rc = 2.43e3\n",
        "\n",
        "# Re e Rc estão invertidos aqui em cima\n",
        "\n",
        "hfb, hob, hib, hrb = convertParametrosHibridos(\"baseComum\", hfe, hoe, hie, hre)\n",
        "\n",
        "Rl = paralelo(Re, RL)\n",
        "\n",
        "Ai, Av, Zi_b, Zo_c = calcCompleta(hfb, hob, hib, hrb, Rl, Rs)\n",
        "\n",
        "Zin = paralelo(Rc, Zi_b)\n",
        "\n",
        "Zout = paralelo(Re, Zo_c)\n",
        "\n",
        "#print(hfb)\n",
        "#print(hob)\n",
        "#print(hib)\n",
        "#print(hrb)\n",
        "\n",
        "print(\"EQUAÇÕES COMPLETAS\")\n",
        "print(\"Ganho de tensão Av: \", Av)\n",
        "print(\"Ganho de corrente Ai: \", Ai)\n",
        "print(\"Impedância de entrada Zin: \", Zin)\n",
        "print(\"Impedância de saída Zout: \", Zout)"
      ],
      "metadata": {
        "colab": {
          "base_uri": "https://localhost:8080/"
        },
        "id": "TVMefY5c2idE",
        "outputId": "33584486-b312-4de5-9feb-fb1f7b571445"
      },
      "execution_count": null,
      "outputs": [
        {
          "output_type": "stream",
          "name": "stdout",
          "text": [
            "EQUAÇÕES COMPLETAS\n",
            "Ganho de tensão Av:  278.98931796985977\n",
            "Ganho de corrente Ai:  -0.9959593488744019\n",
            "Impedância de entrada Zin:  30.72092951188017\n",
            "Impedância de saída Zout:  8833.302375497906\n"
          ]
        }
      ]
    }
  ]
}