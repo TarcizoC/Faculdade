{
  "nbformat": 4,
  "nbformat_minor": 0,
  "metadata": {
    "colab": {
      "name": "EletronicosRespostaFrequencia_Ciclo10.ipynb",
      "provenance": [],
      "include_colab_link": true
    },
    "kernelspec": {
      "name": "python3",
      "display_name": "Python 3"
    },
    "language_info": {
      "name": "python"
    }
  },
  "cells": [
    {
      "cell_type": "markdown",
      "metadata": {
        "id": "view-in-github",
        "colab_type": "text"
      },
      "source": [
        "<a href=\"https://colab.research.google.com/github/TarcizoC/Faculdade/blob/main/EletronicosRespostaFrequencia_Ciclo10.ipynb\" target=\"_parent\"><img src=\"https://colab.research.google.com/assets/colab-badge.svg\" alt=\"Open In Colab\"/></a>"
      ]
    },
    {
      "cell_type": "code",
      "source": [
        "import numpy as np\n",
        "\n",
        "def paralelo(R1, R2):\n",
        "  return 1/( 1/R1 + 1/R2 )\n",
        "\n",
        "def freq_corte(R, C):\n",
        "  return 1/( 2*np.pi * R * C)"
      ],
      "metadata": {
        "id": "uRNi-ViE51yM"
      },
      "execution_count": null,
      "outputs": []
    },
    {
      "cell_type": "markdown",
      "source": [
        "# Questão 1"
      ],
      "metadata": {
        "id": "FrpU0Nou9cPO"
      }
    },
    {
      "cell_type": "code",
      "execution_count": null,
      "metadata": {
        "colab": {
          "base_uri": "https://localhost:8080/"
        },
        "id": "7B_MUNO-yNKw",
        "outputId": "6eab7520-5314-45e4-c2c1-1cf53cf2de1a"
      },
      "outputs": [
        {
          "output_type": "stream",
          "name": "stdout",
          "text": [
            "Corrente no coletor 1 0.002530379330871419\n",
            "Ganho de tensão em Q1:  -7.118363249156469\n",
            "Ganho de tensão em Q2:  0.9972392640328674\n",
            "Ganho de tensão geral:  -7.0987113277074085\n"
          ]
        }
      ],
      "source": [
        "Vf = 18\n",
        "\n",
        "Rb1 = 16.2e3\n",
        "Rb2 = 1.69e3\n",
        "Rc1 = 3.09e3\n",
        "Re1 = 402\n",
        "Re2 = 182\n",
        "\n",
        "beta = 320\n",
        "Vbe1 = 0.68\n",
        "Vbe2 = 0.76\n",
        "\n",
        "# Ganho de tensão em Q1\n",
        "\n",
        "# Calculo de corrente de coletor 1\n",
        "\n",
        "Vb1 = Vf * Rb2 / (Rb1+Rb2)\n",
        "Ve1 = Vb1-Vbe1\n",
        "Ie1 = Ve1/Re1\n",
        "Ic1 = beta/(beta+1)*Ie1\n",
        "\n",
        "print(\"Corrente no coletor 1\", Ic1)\n",
        "\n",
        "# Calculo de re_linha1\n",
        "\n",
        "re_linha1 = 26/(Ic1*1e3)\n",
        "\n",
        "# Calculo de corrente de coletor 1\n",
        "\n",
        "Vc1 = Ic1 * Rc1\n",
        "Vb2 = Vf - Vc1\n",
        "\n",
        "Ve2 = Vb2-Vbe2\n",
        "Ie2 = Ve2/Re2\n",
        "Ic2 = beta/(beta+1)*Ie2\n",
        "\n",
        "# Calculo de re_linha2\n",
        "\n",
        "re_linha2 = 26/(Ic2*1e3)\n",
        "\n",
        "# Calculo do resistor de carga de Q1\n",
        "\n",
        "Rl = (re_linha2 + Re2)*beta\n",
        "\n",
        "# Ganho de tensão\n",
        "\n",
        "Av1 = - paralelo(Rc1, Rl) / (Re1 + re_linha1)\n",
        "\n",
        "print(\"Ganho de tensão em Q1: \", Av1)\n",
        "\n",
        "# Ganho de tensão em Q2\n",
        "\n",
        "Av2 = Re2 / (Re2 + re_linha2)\n",
        "\n",
        "print(\"Ganho de tensão em Q2: \", Av2)\n",
        "\n",
        "# Ganho total\n",
        "\n",
        "Av = Av1 * Av2\n",
        "print(\"Ganho de tensão geral: \", Av)"
      ]
    },
    {
      "cell_type": "markdown",
      "source": [
        "# Questão 2"
      ],
      "metadata": {
        "id": "DYKg1rP49fTK"
      }
    },
    {
      "cell_type": "code",
      "source": [
        "Vf = 24\n",
        "\n",
        "Rb1 = 3.16e3\n",
        "Rb2 = 20.5e3\n",
        "Re = 2.43e3\n",
        "Rc = 10.7e3\n",
        "Rl = 47e3\n",
        "\n",
        "c_ent = 390e-6\n",
        "c_des = 47e-6\n",
        "c_sai = 27e-6\n",
        "\n",
        "Vbe = -0.72\n",
        "beta = 221\n",
        "\n",
        "# Calculo de corrente de coletor apontando para cima, por isso negativa\n",
        "\n",
        "Vb = Vf * Rb2 / (Rb1+Rb2) \n",
        "Ve = Vb - Vbe - Vf\n",
        "Ie = Ve / Re\n",
        "Ic = beta/(beta+1) * Ie\n",
        "\n",
        "print(\"Corrente de Coletor: \", Ic)\n",
        "\n",
        "# Calculo de re_linha\n",
        "\n",
        "re_linha = 26/abs(Ic*1e3)\n",
        "\n",
        "# Frequencia de corte entrada\n",
        "\n",
        "Rth_entrada = paralelo(Re, re_linha)\n",
        "\n",
        "f_entrada = freq_corte(Rth_entrada, c_ent)\n",
        "print(\"Frequencia de corte entrada: \", f_entrada)\n",
        "\n",
        "# Frequência de corte desvio\n",
        "\n",
        "#Rth_desvio = paralelo(paralelo(Rb1, Rb2), beta*(re_linha+Re))\n",
        "Rth_desvio = paralelo(Rb1, beta*re_linha)\n",
        "print(\"Rth_desvio: \", Rth_desvio)\n",
        "f_desvio = freq_corte(Rth_desvio, c_des)\n",
        "print(\"Frequencia de desvio: \", f_desvio)\n",
        "\n",
        "# Frequência de corte de saída\n",
        "\n",
        "Rth_saida = Rl + Rc\n",
        "f_saida = freq_corte(Rth_saida, c_sai)\n",
        "print(\"Frequência de saída: \", f_saida)"
      ],
      "metadata": {
        "colab": {
          "base_uri": "https://localhost:8080/"
        },
        "id": "6m4NLvjw9gO9",
        "outputId": "f34de65a-6d40-4ba1-ea2c-647542007586"
      },
      "execution_count": null,
      "outputs": [
        {
          "output_type": "stream",
          "name": "stdout",
          "text": [
            "Corrente de Coletor:  -0.0010181952404174634\n",
            "Frequencia de corte entrada:  16.149279875769427\n",
            "Rth_desvio:  2025.7004695373766\n",
            "Frequencia de desvio:  1.6716565138118817\n",
            "Frequência de saída:  0.10215992239033016\n"
          ]
        }
      ]
    },
    {
      "cell_type": "markdown",
      "source": [
        "# Questão 3"
      ],
      "metadata": {
        "id": "t61HTOQt3vYa"
      }
    },
    {
      "cell_type": "code",
      "source": [
        "Vf = 24\n",
        "\n",
        "Rs = 100\n",
        "Rb1 = 102e3\n",
        "Rb2 = 7.5e3\n",
        "Rc = 11e3\n",
        "Re = 1e3\n",
        "Rl = 2.2e3\n",
        "#Rl = 4.7e3\n",
        "\n",
        "c_ent = 22e-6\n",
        "c_des = 470e-6\n",
        "c_sai = 56e-6\n",
        "\n",
        "cbc = 150e-12\n",
        "#cbc = 120e-12\n",
        "\n",
        "beta = 333\n",
        "Vbe = 0.65\n",
        "\n",
        "# Calculo de ganho de tensao\n",
        "\n",
        "Vb = Vf * Rb2 / (Rb1+Rb2)\n",
        "Ve = Vb-Vbe\n",
        "Ie = Ve/Re\n",
        "Ic = beta/(beta+1)*Ie\n",
        "\n",
        "re_linha = 26/(Ic*1e3)\n",
        "print(\"re_linha: \", re_linha)\n",
        "\n",
        "Av1 = - paralelo(Rc, Rl) /  (Re + re_linha)\n",
        "\n",
        "print(\"Ganho de tensão: \", Av1)\n",
        "\n",
        "# Calculando ganho com Rs\n",
        "\n",
        "Zi_linha = beta * (Re + re_linha)\n",
        "Zi = paralelo(paralelo(Rb1, Rb2), Zi_linha)\n",
        "print(\"Zi: \", Zi)\n",
        "\n",
        "Av = Zi / (Zi + Rs) * Av1\n",
        "print(\"Ganho de tensão com RS: \", Av)\n",
        "\n",
        "# Frequência de corte de entrada\n",
        "\n",
        "cmi = cbc * (1 - Av)\n",
        "Rth_i = paralelo(paralelo(paralelo(Rs, Rb1), Rb2), beta*re_linha)\n",
        "print(\"Rth_i\", Rth_i)\n",
        "fci = freq_corte(Rth_i, cmi)\n",
        "print(\"Fci: \", fci)\n",
        "\n",
        "# Frequência de corte de saída\n",
        "\n",
        "cmo = cbc * (1 - (1/Av))\n",
        "Rth_o = paralelo(Rc, Rl)\n",
        "print(\"Rth_o: \", Rth_o)\n",
        "fco = freq_corte(Rth_o, cmo)\n",
        "print(\"Fco: \", fco)"
      ],
      "metadata": {
        "colab": {
          "base_uri": "https://localhost:8080/"
        },
        "id": "76HGazWS-9nR",
        "outputId": "47ddfdb9-7827-49fd-d307-d9f4946367ee"
      },
      "execution_count": null,
      "outputs": [
        {
          "output_type": "stream",
          "name": "stdout",
          "text": [
            "re_linha:  26.239830457611298\n",
            "Ganho de tensão:  -1.7864570044176031\n",
            "Zi:  6846.338580525396\n",
            "Ganho de tensão com RS:  -1.7607390382731645\n",
            "Rth_i 97.48886517571992\n",
            "Fci:  3942289.3896723124\n",
            "Rth_o:  1833.3333333333333\n",
            "Fco:  369111.07371956384\n"
          ]
        }
      ]
    },
    {
      "cell_type": "code",
      "source": [
        ""
      ],
      "metadata": {
        "id": "QCO72JSjGaV0"
      },
      "execution_count": null,
      "outputs": []
    }
  ]
}